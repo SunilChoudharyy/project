{
  "nbformat": 4,
  "nbformat_minor": 0,
  "metadata": {
    "colab": {
      "provenance": []
    },
    "kernelspec": {
      "name": "python3",
      "display_name": "Python 3"
    },
    "language_info": {
      "name": "python"
    }
  },
  "cells": [
    {
      "cell_type": "code",
      "execution_count": 19,
      "metadata": {
        "id": "zXkHtEymPR6L"
      },
      "outputs": [],
      "source": [
        "#!pip install pyspark"
      ]
    },
    {
      "cell_type": "code",
      "source": [
        "from pyspark.sql import SparkSession\n",
        "from pyspark import SparkContext,SparkConf\n",
        "from pyspark.sql.functions import approx_count_distinct,collect_list\n",
        "from pyspark.sql.functions import collect_set,sum,avg,max,countDistinct,count\n",
        "from pyspark.sql.functions import first, last, min, mean \n",
        "from pyspark.sql.functions import sumDistinct,col"
      ],
      "metadata": {
        "id": "zoPhvPXZPXtj"
      },
      "execution_count": 20,
      "outputs": []
    },
    {
      "cell_type": "code",
      "source": [
        "#create the session\n",
        "\n",
        "conf = SparkConf().set(\"spark.ui.port\",\"4050\")\n",
        "\n",
        "#create the context\n",
        "import pyspark\n",
        "sc = pyspark.SparkContext(conf=conf)\n",
        "spark = SparkSession.builder.getOrCreate()"
      ],
      "metadata": {
        "colab": {
          "base_uri": "https://localhost:8080/",
          "height": 259
        },
        "id": "QD4wWPQoPgDY",
        "outputId": "c14f6158-e0c0-4850-9621-92ffac214db6"
      },
      "execution_count": 21,
      "outputs": [
        {
          "output_type": "error",
          "ename": "ValueError",
          "evalue": "ignored",
          "traceback": [
            "\u001b[0;31m---------------------------------------------------------------------------\u001b[0m",
            "\u001b[0;31mValueError\u001b[0m                                Traceback (most recent call last)",
            "\u001b[0;32m<ipython-input-21-cf8f875473da>\u001b[0m in \u001b[0;36m<cell line: 7>\u001b[0;34m()\u001b[0m\n\u001b[1;32m      5\u001b[0m \u001b[0;31m#create the context\u001b[0m\u001b[0;34m\u001b[0m\u001b[0;34m\u001b[0m\u001b[0m\n\u001b[1;32m      6\u001b[0m \u001b[0;32mimport\u001b[0m \u001b[0mpyspark\u001b[0m\u001b[0;34m\u001b[0m\u001b[0;34m\u001b[0m\u001b[0m\n\u001b[0;32m----> 7\u001b[0;31m \u001b[0msc\u001b[0m \u001b[0;34m=\u001b[0m \u001b[0mpyspark\u001b[0m\u001b[0;34m.\u001b[0m\u001b[0mSparkContext\u001b[0m\u001b[0;34m(\u001b[0m\u001b[0mconf\u001b[0m\u001b[0;34m=\u001b[0m\u001b[0mconf\u001b[0m\u001b[0;34m)\u001b[0m\u001b[0;34m\u001b[0m\u001b[0;34m\u001b[0m\u001b[0m\n\u001b[0m\u001b[1;32m      8\u001b[0m \u001b[0mspark\u001b[0m \u001b[0;34m=\u001b[0m \u001b[0mSparkSession\u001b[0m\u001b[0;34m.\u001b[0m\u001b[0mbuilder\u001b[0m\u001b[0;34m.\u001b[0m\u001b[0mgetOrCreate\u001b[0m\u001b[0;34m(\u001b[0m\u001b[0;34m)\u001b[0m\u001b[0;34m\u001b[0m\u001b[0;34m\u001b[0m\u001b[0m\n",
            "\u001b[0;32m/usr/local/lib/python3.10/dist-packages/pyspark/context.py\u001b[0m in \u001b[0;36m__init__\u001b[0;34m(self, master, appName, sparkHome, pyFiles, environment, batchSize, serializer, conf, gateway, jsc, profiler_cls, udf_profiler_cls, memory_profiler_cls)\u001b[0m\n\u001b[1;32m    196\u001b[0m             )\n\u001b[1;32m    197\u001b[0m \u001b[0;34m\u001b[0m\u001b[0m\n\u001b[0;32m--> 198\u001b[0;31m         \u001b[0mSparkContext\u001b[0m\u001b[0;34m.\u001b[0m\u001b[0m_ensure_initialized\u001b[0m\u001b[0;34m(\u001b[0m\u001b[0mself\u001b[0m\u001b[0;34m,\u001b[0m \u001b[0mgateway\u001b[0m\u001b[0;34m=\u001b[0m\u001b[0mgateway\u001b[0m\u001b[0;34m,\u001b[0m \u001b[0mconf\u001b[0m\u001b[0;34m=\u001b[0m\u001b[0mconf\u001b[0m\u001b[0;34m)\u001b[0m\u001b[0;34m\u001b[0m\u001b[0;34m\u001b[0m\u001b[0m\n\u001b[0m\u001b[1;32m    199\u001b[0m         \u001b[0;32mtry\u001b[0m\u001b[0;34m:\u001b[0m\u001b[0;34m\u001b[0m\u001b[0;34m\u001b[0m\u001b[0m\n\u001b[1;32m    200\u001b[0m             self._do_init(\n",
            "\u001b[0;32m/usr/local/lib/python3.10/dist-packages/pyspark/context.py\u001b[0m in \u001b[0;36m_ensure_initialized\u001b[0;34m(cls, instance, gateway, conf)\u001b[0m\n\u001b[1;32m    443\u001b[0m \u001b[0;34m\u001b[0m\u001b[0m\n\u001b[1;32m    444\u001b[0m                     \u001b[0;31m# Raise error if there is already a running Spark context\u001b[0m\u001b[0;34m\u001b[0m\u001b[0;34m\u001b[0m\u001b[0m\n\u001b[0;32m--> 445\u001b[0;31m                     raise ValueError(\n\u001b[0m\u001b[1;32m    446\u001b[0m                         \u001b[0;34m\"Cannot run multiple SparkContexts at once; \"\u001b[0m\u001b[0;34m\u001b[0m\u001b[0;34m\u001b[0m\u001b[0m\n\u001b[1;32m    447\u001b[0m                         \u001b[0;34m\"existing SparkContext(app=%s, master=%s)\"\u001b[0m\u001b[0;34m\u001b[0m\u001b[0;34m\u001b[0m\u001b[0m\n",
            "\u001b[0;31mValueError\u001b[0m: Cannot run multiple SparkContexts at once; existing SparkContext(app=pyspark-shell, master=local[*]) created by __init__ at <ipython-input-4-cf8f875473da>:7 "
          ]
        }
      ]
    },
    {
      "cell_type": "code",
      "source": [
        "df = spark.read.csv(\"/content/diabetic_data.csv\", header=True)\n",
        "\n",
        "df.printSchema()"
      ],
      "metadata": {
        "colab": {
          "base_uri": "https://localhost:8080/"
        },
        "id": "_oBUGo5_Pgo3",
        "outputId": "8aaaf77c-0842-492b-9750-eedd7e6a55a7"
      },
      "execution_count": 22,
      "outputs": [
        {
          "output_type": "stream",
          "name": "stdout",
          "text": [
            "root\n",
            " |-- encounter_id: string (nullable = true)\n",
            " |-- patient_nbr: string (nullable = true)\n",
            " |-- race: string (nullable = true)\n",
            " |-- gender: string (nullable = true)\n",
            " |-- age: string (nullable = true)\n",
            " |-- weight: string (nullable = true)\n",
            " |-- admission_type_id: string (nullable = true)\n",
            " |-- discharge_disposition_id: string (nullable = true)\n",
            " |-- admission_source_id: string (nullable = true)\n",
            " |-- time_in_hospital: string (nullable = true)\n",
            " |-- payer_code: string (nullable = true)\n",
            " |-- medical_specialty: string (nullable = true)\n",
            " |-- num_lab_procedures: string (nullable = true)\n",
            " |-- num_procedures: string (nullable = true)\n",
            " |-- num_medications: string (nullable = true)\n",
            " |-- number_outpatient: string (nullable = true)\n",
            " |-- number_emergency: string (nullable = true)\n",
            " |-- number_inpatient: string (nullable = true)\n",
            " |-- diag_1: string (nullable = true)\n",
            " |-- diag_2: string (nullable = true)\n",
            " |-- diag_3: string (nullable = true)\n",
            " |-- number_diagnoses: string (nullable = true)\n",
            " |-- max_glu_serum: string (nullable = true)\n",
            " |-- A1Cresult: string (nullable = true)\n",
            " |-- metformin: string (nullable = true)\n",
            " |-- repaglinide: string (nullable = true)\n",
            " |-- nateglinide: string (nullable = true)\n",
            " |-- chlorpropamide: string (nullable = true)\n",
            " |-- glimepiride: string (nullable = true)\n",
            " |-- acetohexamide: string (nullable = true)\n",
            " |-- glipizide: string (nullable = true)\n",
            " |-- glyburide: string (nullable = true)\n",
            " |-- tolbutamide: string (nullable = true)\n",
            " |-- pioglitazone: string (nullable = true)\n",
            " |-- rosiglitazone: string (nullable = true)\n",
            " |-- acarbose: string (nullable = true)\n",
            " |-- miglitol: string (nullable = true)\n",
            " |-- troglitazone: string (nullable = true)\n",
            " |-- tolazamide: string (nullable = true)\n",
            " |-- examide: string (nullable = true)\n",
            " |-- citoglipton: string (nullable = true)\n",
            " |-- insulin: string (nullable = true)\n",
            " |-- glyburide-metformin: string (nullable = true)\n",
            " |-- glipizide-metformin: string (nullable = true)\n",
            " |-- glimepiride-pioglitazone: string (nullable = true)\n",
            " |-- metformin-rosiglitazone: string (nullable = true)\n",
            " |-- metformin-pioglitazone: string (nullable = true)\n",
            " |-- change: string (nullable = true)\n",
            " |-- diabetesMed: string (nullable = true)\n",
            " |-- readmitted: string (nullable = true)\n",
            "\n"
          ]
        }
      ]
    },
    {
      "cell_type": "code",
      "source": [
        "df.show()"
      ],
      "metadata": {
        "colab": {
          "base_uri": "https://localhost:8080/"
        },
        "id": "keIQKtpLPtPd",
        "outputId": "eaee546f-e812-44da-c443-73c19dc8effe"
      },
      "execution_count": 23,
      "outputs": [
        {
          "output_type": "stream",
          "name": "stdout",
          "text": [
            "+------------+-----------+---------------+------+--------+------+-----------------+------------------------+-------------------+----------------+----------+--------------------+------------------+--------------+---------------+-----------------+----------------+----------------+------+------+------+----------------+-------------+---------+---------+-----------+-----------+--------------+-----------+-------------+---------+---------+-----------+------------+-------------+--------+--------+------------+----------+-------+-----------+-------+-------------------+-------------------+------------------------+-----------------------+----------------------+------+-----------+----------+\n",
            "|encounter_id|patient_nbr|           race|gender|     age|weight|admission_type_id|discharge_disposition_id|admission_source_id|time_in_hospital|payer_code|   medical_specialty|num_lab_procedures|num_procedures|num_medications|number_outpatient|number_emergency|number_inpatient|diag_1|diag_2|diag_3|number_diagnoses|max_glu_serum|A1Cresult|metformin|repaglinide|nateglinide|chlorpropamide|glimepiride|acetohexamide|glipizide|glyburide|tolbutamide|pioglitazone|rosiglitazone|acarbose|miglitol|troglitazone|tolazamide|examide|citoglipton|insulin|glyburide-metformin|glipizide-metformin|glimepiride-pioglitazone|metformin-rosiglitazone|metformin-pioglitazone|change|diabetesMed|readmitted|\n",
            "+------------+-----------+---------------+------+--------+------+-----------------+------------------------+-------------------+----------------+----------+--------------------+------------------+--------------+---------------+-----------------+----------------+----------------+------+------+------+----------------+-------------+---------+---------+-----------+-----------+--------------+-----------+-------------+---------+---------+-----------+------------+-------------+--------+--------+------------+----------+-------+-----------+-------+-------------------+-------------------+------------------------+-----------------------+----------------------+------+-----------+----------+\n",
            "|     2278392|    8222157|      Caucasian|Female|  [0-10)|     ?|                6|                      25|                  1|               1|         ?|Pediatrics-Endocr...|                41|             0|              1|                0|               0|               0|250.83|     ?|     ?|               1|         None|     None|       No|         No|         No|            No|         No|           No|       No|       No|         No|          No|           No|      No|      No|          No|        No|     No|         No|     No|                 No|                 No|                      No|                     No|                    No|    No|         No|        NO|\n",
            "|      149190|   55629189|      Caucasian|Female| [10-20)|     ?|                1|                       1|                  7|               3|         ?|                   ?|                59|             0|             18|                0|               0|               0|   276|250.01|   255|               9|         None|     None|       No|         No|         No|            No|         No|           No|       No|       No|         No|          No|           No|      No|      No|          No|        No|     No|         No|     Up|                 No|                 No|                      No|                     No|                    No|    Ch|        Yes|       >30|\n",
            "|       64410|   86047875|AfricanAmerican|Female| [20-30)|     ?|                1|                       1|                  7|               2|         ?|                   ?|                11|             5|             13|                2|               0|               1|   648|   250|   V27|               6|         None|     None|       No|         No|         No|            No|         No|           No|   Steady|       No|         No|          No|           No|      No|      No|          No|        No|     No|         No|     No|                 No|                 No|                      No|                     No|                    No|    No|        Yes|        NO|\n",
            "|      500364|   82442376|      Caucasian|  Male| [30-40)|     ?|                1|                       1|                  7|               2|         ?|                   ?|                44|             1|             16|                0|               0|               0|     8|250.43|   403|               7|         None|     None|       No|         No|         No|            No|         No|           No|       No|       No|         No|          No|           No|      No|      No|          No|        No|     No|         No|     Up|                 No|                 No|                      No|                     No|                    No|    Ch|        Yes|        NO|\n",
            "|       16680|   42519267|      Caucasian|  Male| [40-50)|     ?|                1|                       1|                  7|               1|         ?|                   ?|                51|             0|              8|                0|               0|               0|   197|   157|   250|               5|         None|     None|       No|         No|         No|            No|         No|           No|   Steady|       No|         No|          No|           No|      No|      No|          No|        No|     No|         No| Steady|                 No|                 No|                      No|                     No|                    No|    Ch|        Yes|        NO|\n",
            "|       35754|   82637451|      Caucasian|  Male| [50-60)|     ?|                2|                       1|                  2|               3|         ?|                   ?|                31|             6|             16|                0|               0|               0|   414|   411|   250|               9|         None|     None|       No|         No|         No|            No|         No|           No|       No|       No|         No|          No|           No|      No|      No|          No|        No|     No|         No| Steady|                 No|                 No|                      No|                     No|                    No|    No|        Yes|       >30|\n",
            "|       55842|   84259809|      Caucasian|  Male| [60-70)|     ?|                3|                       1|                  2|               4|         ?|                   ?|                70|             1|             21|                0|               0|               0|   414|   411|   V45|               7|         None|     None|   Steady|         No|         No|            No|     Steady|           No|       No|       No|         No|          No|           No|      No|      No|          No|        No|     No|         No| Steady|                 No|                 No|                      No|                     No|                    No|    Ch|        Yes|        NO|\n",
            "|       63768|  114882984|      Caucasian|  Male| [70-80)|     ?|                1|                       1|                  7|               5|         ?|                   ?|                73|             0|             12|                0|               0|               0|   428|   492|   250|               8|         None|     None|       No|         No|         No|            No|         No|           No|       No|   Steady|         No|          No|           No|      No|      No|          No|        No|     No|         No|     No|                 No|                 No|                      No|                     No|                    No|    No|        Yes|       >30|\n",
            "|       12522|   48330783|      Caucasian|Female| [80-90)|     ?|                2|                       1|                  4|              13|         ?|                   ?|                68|             2|             28|                0|               0|               0|   398|   427|    38|               8|         None|     None|       No|         No|         No|            No|         No|           No|   Steady|       No|         No|          No|           No|      No|      No|          No|        No|     No|         No| Steady|                 No|                 No|                      No|                     No|                    No|    Ch|        Yes|        NO|\n",
            "|       15738|   63555939|      Caucasian|Female|[90-100)|     ?|                3|                       3|                  4|              12|         ?|    InternalMedicine|                33|             3|             18|                0|               0|               0|   434|   198|   486|               8|         None|     None|       No|         No|         No|            No|         No|           No|       No|       No|         No|          No|       Steady|      No|      No|          No|        No|     No|         No| Steady|                 No|                 No|                      No|                     No|                    No|    Ch|        Yes|        NO|\n",
            "|       28236|   89869032|AfricanAmerican|Female| [40-50)|     ?|                1|                       1|                  7|               9|         ?|                   ?|                47|             2|             17|                0|               0|               0| 250.7|   403|   996|               9|         None|     None|       No|         No|         No|            No|         No|           No|       No|       No|         No|          No|           No|      No|      No|          No|        No|     No|         No| Steady|                 No|                 No|                      No|                     No|                    No|    No|        Yes|       >30|\n",
            "|       36900|   77391171|AfricanAmerican|  Male| [60-70)|     ?|                2|                       1|                  4|               7|         ?|                   ?|                62|             0|             11|                0|               0|               0|   157|   288|   197|               7|         None|     None|       No|         No|         No|            No|         No|           No|       No|       Up|         No|          No|           No|      No|      No|          No|        No|     No|         No| Steady|                 No|                 No|                      No|                     No|                    No|    Ch|        Yes|       <30|\n",
            "|       40926|   85504905|      Caucasian|Female| [40-50)|     ?|                1|                       3|                  7|               7|         ?|Family/GeneralPra...|                60|             0|             15|                0|               1|               0|   428|250.43| 250.6|               8|         None|     None|   Steady|         Up|         No|            No|         No|           No|       No|       No|         No|          No|           No|      No|      No|          No|        No|     No|         No|   Down|                 No|                 No|                      No|                     No|                    No|    Ch|        Yes|       <30|\n",
            "|       42570|   77586282|      Caucasian|  Male| [80-90)|     ?|                1|                       6|                  7|              10|         ?|Family/GeneralPra...|                55|             1|             31|                0|               0|               0|   428|   411|   427|               8|         None|     None|       No|         No|         No|            No|         No|           No|       No|       No|         No|          No|           No|      No|      No|          No|        No|     No|         No| Steady|                 No|                 No|                      No|                     No|                    No|    No|        Yes|        NO|\n",
            "|       62256|   49726791|AfricanAmerican|Female| [60-70)|     ?|                3|                       1|                  2|               1|         ?|                   ?|                49|             5|              2|                0|               0|               0|   518|   998|   627|               8|         None|     None|       No|         No|         No|            No|         No|           No|       No|       No|         No|          No|           No|      No|      No|          No|        No|     No|         No| Steady|                 No|                 No|                      No|                     No|                    No|    No|        Yes|       >30|\n",
            "|       73578|   86328819|AfricanAmerican|  Male| [60-70)|     ?|                1|                       3|                  7|              12|         ?|                   ?|                75|             5|             13|                0|               0|               0|   999|   507|   996|               9|         None|     None|       No|         No|         No|            No|         No|           No|       No|       No|         No|          No|           No|      No|      No|          No|        No|     No|         No|     Up|                 No|                 No|                      No|                     No|                    No|    Ch|        Yes|        NO|\n",
            "|       77076|   92519352|AfricanAmerican|  Male| [50-60)|     ?|                1|                       1|                  7|               4|         ?|                   ?|                45|             4|             17|                0|               0|               0|   410|   411|   414|               8|         None|     None|       No|         No|         No|            No|         No|           No|   Steady|       No|         No|          No|           No|      No|      No|          No|        No|     No|         No| Steady|                 No|                 No|                      No|                     No|                    No|    Ch|        Yes|       <30|\n",
            "|       84222|  108662661|      Caucasian|Female| [50-60)|     ?|                1|                       1|                  7|               3|         ?|          Cardiology|                29|             0|             11|                0|               0|               0|   682|   174|   250|               3|         None|     None|       No|         No|         No|            No|         No|           No|       No|   Steady|         No|          No|           No|      No|      No|          No|        No|     No|         No|     No|                 No|                 No|                      No|                     No|                    No|    No|        Yes|        NO|\n",
            "|       89682|  107389323|AfricanAmerican|  Male| [70-80)|     ?|                1|                       1|                  7|               5|         ?|                   ?|                35|             5|             23|                0|               0|               0|   402|   425|   416|               9|         None|     None|       No|         No|         No|            No|         No|           No|       No|       No|         No|          No|           No|      No|      No|          No|        No|     No|         No| Steady|                 No|                 No|                      No|                     No|                    No|    No|        Yes|       >30|\n",
            "|      148530|   69422211|              ?|  Male| [70-80)|     ?|                3|                       6|                  2|               6|         ?|                   ?|                42|             2|             23|                0|               0|               0|   737|   427|   714|               8|         None|     None|       No|         No|         No|            No|         No|           No|       No|     Down|         No|          No|           No|      No|      No|          No|        No|     No|         No| Steady|                 No|                 No|                      No|                     No|                    No|    Ch|        Yes|        NO|\n",
            "+------------+-----------+---------------+------+--------+------+-----------------+------------------------+-------------------+----------------+----------+--------------------+------------------+--------------+---------------+-----------------+----------------+----------------+------+------+------+----------------+-------------+---------+---------+-----------+-----------+--------------+-----------+-------------+---------+---------+-----------+------------+-------------+--------+--------+------------+----------+-------+-----------+-------+-------------------+-------------------+------------------------+-----------------------+----------------------+------+-----------+----------+\n",
            "only showing top 20 rows\n",
            "\n"
          ]
        }
      ]
    },
    {
      "cell_type": "markdown",
      "source": [
        "**1. Find the number of patients which have not been readmitted in hospital.**"
      ],
      "metadata": {
        "id": "PZLsyy1HU6Sg"
      }
    },
    {
      "cell_type": "code",
      "source": [
        "# Filter the records to include only patients who have not been readmitted\n",
        "not_readmitted_df = df.filter(col('readmitted') == 'No')\n",
        "not_readmitted_df.count()"
      ],
      "metadata": {
        "colab": {
          "base_uri": "https://localhost:8080/"
        },
        "id": "hqtZh_HkQF7N",
        "outputId": "fad1b0ab-7762-4414-9c57-4e5e8bc33cbd"
      },
      "execution_count": 24,
      "outputs": [
        {
          "output_type": "execute_result",
          "data": {
            "text/plain": [
              "0"
            ]
          },
          "metadata": {},
          "execution_count": 24
        }
      ]
    },
    {
      "cell_type": "markdown",
      "source": [
        "**2. Find the number of patients which have been readmitted in less than 30 days.**"
      ],
      "metadata": {
        "id": "0y0Dth7YU94F"
      }
    },
    {
      "cell_type": "code",
      "source": [
        "# Filter the records to include only patients who have been readmitted in less than 30 days\n",
        "readmitted_less_df = df.filter(col('readmitted') == '<30')\n",
        "readmitted_less_df.count()"
      ],
      "metadata": {
        "colab": {
          "base_uri": "https://localhost:8080/"
        },
        "id": "Ry0aSZ6mQknJ",
        "outputId": "531f1a4f-d30d-4dfb-f3f2-f46ee4ca5df3"
      },
      "execution_count": 25,
      "outputs": [
        {
          "output_type": "execute_result",
          "data": {
            "text/plain": [
              "6958"
            ]
          },
          "metadata": {},
          "execution_count": 25
        }
      ]
    },
    {
      "cell_type": "markdown",
      "source": [
        "**3.Find the number of patients which have been readmitted after 30 days.**"
      ],
      "metadata": {
        "id": "Hjjix7kAVBgY"
      }
    },
    {
      "cell_type": "code",
      "source": [
        "# Filter the number of patients which have been readmitted after 30 days\n",
        "readmitted_after_df = df.filter(col('readmitted') == '>30')\n",
        "readmitted_after_df.count()"
      ],
      "metadata": {
        "colab": {
          "base_uri": "https://localhost:8080/"
        },
        "id": "QwRPI-qbRH0u",
        "outputId": "4a487365-1ec2-4231-eb72-04897d0ec6e6"
      },
      "execution_count": 26,
      "outputs": [
        {
          "output_type": "execute_result",
          "data": {
            "text/plain": [
              "21663"
            ]
          },
          "metadata": {},
          "execution_count": 26
        }
      ]
    },
    {
      "cell_type": "markdown",
      "source": [
        "**4. Find the range of age which have been affected by diabetes more. (take help of diabetes column).**"
      ],
      "metadata": {
        "id": "jUwA42jtVEKQ"
      }
    },
    {
      "cell_type": "code",
      "source": [
        "# Filter the records to include only patients with diabetes\n",
        "diabetes_df = df.filter(col('diabetesMed') == 'Yes')\n",
        "diabetes_df.show()"
      ],
      "metadata": {
        "colab": {
          "base_uri": "https://localhost:8080/"
        },
        "id": "890tuUsBSnjN",
        "outputId": "2225d99e-3ddd-4fbc-80fd-989c72f348a6"
      },
      "execution_count": 36,
      "outputs": [
        {
          "output_type": "stream",
          "name": "stdout",
          "text": [
            "+------------+-----------+---------------+------+--------+------+-----------------+------------------------+-------------------+----------------+----------+--------------------+------------------+--------------+---------------+-----------------+----------------+----------------+------+------+------+----------------+-------------+---------+---------+-----------+-----------+--------------+-----------+-------------+---------+---------+-----------+------------+-------------+--------+--------+------------+----------+-------+-----------+-------+-------------------+-------------------+------------------------+-----------------------+----------------------+------+-----------+----------+\n",
            "|encounter_id|patient_nbr|           race|gender|     age|weight|admission_type_id|discharge_disposition_id|admission_source_id|time_in_hospital|payer_code|   medical_specialty|num_lab_procedures|num_procedures|num_medications|number_outpatient|number_emergency|number_inpatient|diag_1|diag_2|diag_3|number_diagnoses|max_glu_serum|A1Cresult|metformin|repaglinide|nateglinide|chlorpropamide|glimepiride|acetohexamide|glipizide|glyburide|tolbutamide|pioglitazone|rosiglitazone|acarbose|miglitol|troglitazone|tolazamide|examide|citoglipton|insulin|glyburide-metformin|glipizide-metformin|glimepiride-pioglitazone|metformin-rosiglitazone|metformin-pioglitazone|change|diabetesMed|readmitted|\n",
            "+------------+-----------+---------------+------+--------+------+-----------------+------------------------+-------------------+----------------+----------+--------------------+------------------+--------------+---------------+-----------------+----------------+----------------+------+------+------+----------------+-------------+---------+---------+-----------+-----------+--------------+-----------+-------------+---------+---------+-----------+------------+-------------+--------+--------+------------+----------+-------+-----------+-------+-------------------+-------------------+------------------------+-----------------------+----------------------+------+-----------+----------+\n",
            "|      149190|   55629189|      Caucasian|Female| [10-20)|     ?|                1|                       1|                  7|               3|         ?|                   ?|                59|             0|             18|                0|               0|               0|   276|250.01|   255|               9|         None|     None|       No|         No|         No|            No|         No|           No|       No|       No|         No|          No|           No|      No|      No|          No|        No|     No|         No|     Up|                 No|                 No|                      No|                     No|                    No|    Ch|        Yes|       >30|\n",
            "|       64410|   86047875|AfricanAmerican|Female| [20-30)|     ?|                1|                       1|                  7|               2|         ?|                   ?|                11|             5|             13|                2|               0|               1|   648|   250|   V27|               6|         None|     None|       No|         No|         No|            No|         No|           No|   Steady|       No|         No|          No|           No|      No|      No|          No|        No|     No|         No|     No|                 No|                 No|                      No|                     No|                    No|    No|        Yes|        NO|\n",
            "|      500364|   82442376|      Caucasian|  Male| [30-40)|     ?|                1|                       1|                  7|               2|         ?|                   ?|                44|             1|             16|                0|               0|               0|     8|250.43|   403|               7|         None|     None|       No|         No|         No|            No|         No|           No|       No|       No|         No|          No|           No|      No|      No|          No|        No|     No|         No|     Up|                 No|                 No|                      No|                     No|                    No|    Ch|        Yes|        NO|\n",
            "|       16680|   42519267|      Caucasian|  Male| [40-50)|     ?|                1|                       1|                  7|               1|         ?|                   ?|                51|             0|              8|                0|               0|               0|   197|   157|   250|               5|         None|     None|       No|         No|         No|            No|         No|           No|   Steady|       No|         No|          No|           No|      No|      No|          No|        No|     No|         No| Steady|                 No|                 No|                      No|                     No|                    No|    Ch|        Yes|        NO|\n",
            "|       35754|   82637451|      Caucasian|  Male| [50-60)|     ?|                2|                       1|                  2|               3|         ?|                   ?|                31|             6|             16|                0|               0|               0|   414|   411|   250|               9|         None|     None|       No|         No|         No|            No|         No|           No|       No|       No|         No|          No|           No|      No|      No|          No|        No|     No|         No| Steady|                 No|                 No|                      No|                     No|                    No|    No|        Yes|       >30|\n",
            "|       55842|   84259809|      Caucasian|  Male| [60-70)|     ?|                3|                       1|                  2|               4|         ?|                   ?|                70|             1|             21|                0|               0|               0|   414|   411|   V45|               7|         None|     None|   Steady|         No|         No|            No|     Steady|           No|       No|       No|         No|          No|           No|      No|      No|          No|        No|     No|         No| Steady|                 No|                 No|                      No|                     No|                    No|    Ch|        Yes|        NO|\n",
            "|       63768|  114882984|      Caucasian|  Male| [70-80)|     ?|                1|                       1|                  7|               5|         ?|                   ?|                73|             0|             12|                0|               0|               0|   428|   492|   250|               8|         None|     None|       No|         No|         No|            No|         No|           No|       No|   Steady|         No|          No|           No|      No|      No|          No|        No|     No|         No|     No|                 No|                 No|                      No|                     No|                    No|    No|        Yes|       >30|\n",
            "|       12522|   48330783|      Caucasian|Female| [80-90)|     ?|                2|                       1|                  4|              13|         ?|                   ?|                68|             2|             28|                0|               0|               0|   398|   427|    38|               8|         None|     None|       No|         No|         No|            No|         No|           No|   Steady|       No|         No|          No|           No|      No|      No|          No|        No|     No|         No| Steady|                 No|                 No|                      No|                     No|                    No|    Ch|        Yes|        NO|\n",
            "|       15738|   63555939|      Caucasian|Female|[90-100)|     ?|                3|                       3|                  4|              12|         ?|    InternalMedicine|                33|             3|             18|                0|               0|               0|   434|   198|   486|               8|         None|     None|       No|         No|         No|            No|         No|           No|       No|       No|         No|          No|       Steady|      No|      No|          No|        No|     No|         No| Steady|                 No|                 No|                      No|                     No|                    No|    Ch|        Yes|        NO|\n",
            "|       28236|   89869032|AfricanAmerican|Female| [40-50)|     ?|                1|                       1|                  7|               9|         ?|                   ?|                47|             2|             17|                0|               0|               0| 250.7|   403|   996|               9|         None|     None|       No|         No|         No|            No|         No|           No|       No|       No|         No|          No|           No|      No|      No|          No|        No|     No|         No| Steady|                 No|                 No|                      No|                     No|                    No|    No|        Yes|       >30|\n",
            "|       36900|   77391171|AfricanAmerican|  Male| [60-70)|     ?|                2|                       1|                  4|               7|         ?|                   ?|                62|             0|             11|                0|               0|               0|   157|   288|   197|               7|         None|     None|       No|         No|         No|            No|         No|           No|       No|       Up|         No|          No|           No|      No|      No|          No|        No|     No|         No| Steady|                 No|                 No|                      No|                     No|                    No|    Ch|        Yes|       <30|\n",
            "|       40926|   85504905|      Caucasian|Female| [40-50)|     ?|                1|                       3|                  7|               7|         ?|Family/GeneralPra...|                60|             0|             15|                0|               1|               0|   428|250.43| 250.6|               8|         None|     None|   Steady|         Up|         No|            No|         No|           No|       No|       No|         No|          No|           No|      No|      No|          No|        No|     No|         No|   Down|                 No|                 No|                      No|                     No|                    No|    Ch|        Yes|       <30|\n",
            "|       42570|   77586282|      Caucasian|  Male| [80-90)|     ?|                1|                       6|                  7|              10|         ?|Family/GeneralPra...|                55|             1|             31|                0|               0|               0|   428|   411|   427|               8|         None|     None|       No|         No|         No|            No|         No|           No|       No|       No|         No|          No|           No|      No|      No|          No|        No|     No|         No| Steady|                 No|                 No|                      No|                     No|                    No|    No|        Yes|        NO|\n",
            "|       62256|   49726791|AfricanAmerican|Female| [60-70)|     ?|                3|                       1|                  2|               1|         ?|                   ?|                49|             5|              2|                0|               0|               0|   518|   998|   627|               8|         None|     None|       No|         No|         No|            No|         No|           No|       No|       No|         No|          No|           No|      No|      No|          No|        No|     No|         No| Steady|                 No|                 No|                      No|                     No|                    No|    No|        Yes|       >30|\n",
            "|       73578|   86328819|AfricanAmerican|  Male| [60-70)|     ?|                1|                       3|                  7|              12|         ?|                   ?|                75|             5|             13|                0|               0|               0|   999|   507|   996|               9|         None|     None|       No|         No|         No|            No|         No|           No|       No|       No|         No|          No|           No|      No|      No|          No|        No|     No|         No|     Up|                 No|                 No|                      No|                     No|                    No|    Ch|        Yes|        NO|\n",
            "|       77076|   92519352|AfricanAmerican|  Male| [50-60)|     ?|                1|                       1|                  7|               4|         ?|                   ?|                45|             4|             17|                0|               0|               0|   410|   411|   414|               8|         None|     None|       No|         No|         No|            No|         No|           No|   Steady|       No|         No|          No|           No|      No|      No|          No|        No|     No|         No| Steady|                 No|                 No|                      No|                     No|                    No|    Ch|        Yes|       <30|\n",
            "|       84222|  108662661|      Caucasian|Female| [50-60)|     ?|                1|                       1|                  7|               3|         ?|          Cardiology|                29|             0|             11|                0|               0|               0|   682|   174|   250|               3|         None|     None|       No|         No|         No|            No|         No|           No|       No|   Steady|         No|          No|           No|      No|      No|          No|        No|     No|         No|     No|                 No|                 No|                      No|                     No|                    No|    No|        Yes|        NO|\n",
            "|       89682|  107389323|AfricanAmerican|  Male| [70-80)|     ?|                1|                       1|                  7|               5|         ?|                   ?|                35|             5|             23|                0|               0|               0|   402|   425|   416|               9|         None|     None|       No|         No|         No|            No|         No|           No|       No|       No|         No|          No|           No|      No|      No|          No|        No|     No|         No| Steady|                 No|                 No|                      No|                     No|                    No|    No|        Yes|       >30|\n",
            "|      148530|   69422211|              ?|  Male| [70-80)|     ?|                3|                       6|                  2|               6|         ?|                   ?|                42|             2|             23|                0|               0|               0|   737|   427|   714|               8|         None|     None|       No|         No|         No|            No|         No|           No|       No|     Down|         No|          No|           No|      No|      No|          No|        No|     No|         No| Steady|                 No|                 No|                      No|                     No|                    No|    Ch|        Yes|        NO|\n",
            "|      150006|   22864131|              ?|Female| [50-60)|     ?|                2|                       1|                  4|               2|         ?|                   ?|                66|             1|             19|                0|               0|               0|   410|   427|   428|               7|         None|     None|       No|         No|         No|            No|         No|           No|       No|       No|         No|          No|           No|      No|      No|          No|        No|     No|         No|   Down|                 No|                 No|                      No|                     No|                    No|    Ch|        Yes|        NO|\n",
            "+------------+-----------+---------------+------+--------+------+-----------------+------------------------+-------------------+----------------+----------+--------------------+------------------+--------------+---------------+-----------------+----------------+----------------+------+------+------+----------------+-------------+---------+---------+-----------+-----------+--------------+-----------+-------------+---------+---------+-----------+------------+-------------+--------+--------+------------+----------+-------+-----------+-------+-------------------+-------------------+------------------------+-----------------------+----------------------+------+-----------+----------+\n",
            "only showing top 20 rows\n",
            "\n"
          ]
        }
      ]
    },
    {
      "cell_type": "code",
      "source": [
        "# Group the data by age and count the number of diabetes occurrences for each age\n",
        "age_diabetes_count_df = diabetes_df.groupBy('age').count()\n",
        "age_diabetes_count_df.show()"
      ],
      "metadata": {
        "colab": {
          "base_uri": "https://localhost:8080/"
        },
        "id": "bwFLCaOXS0bT",
        "outputId": "dd0e1d81-b083-4c52-8253-3aa74860d412"
      },
      "execution_count": 37,
      "outputs": [
        {
          "output_type": "stream",
          "name": "stdout",
          "text": [
            "+--------+-----+\n",
            "|     age|count|\n",
            "+--------+-----+\n",
            "| [70-80)|11921|\n",
            "|[90-100)|  966|\n",
            "| [40-50)| 4531|\n",
            "| [10-20)|  464|\n",
            "| [20-30)|  823|\n",
            "| [30-40)| 1819|\n",
            "|  [0-10)|  129|\n",
            "| [80-90)| 6758|\n",
            "| [50-60)| 8082|\n",
            "| [60-70)|10089|\n",
            "+--------+-----+\n",
            "\n"
          ]
        }
      ]
    },
    {
      "cell_type": "code",
      "source": [
        "# Find the maximum count of diabetes occurrences\n",
        "max_diabetes_count = age_diabetes_count_df.select('count').agg({\"count\": \"max\"}).first()[0]\n",
        "max_diabetes_count"
      ],
      "metadata": {
        "colab": {
          "base_uri": "https://localhost:8080/"
        },
        "id": "9cmz41Z5VIr7",
        "outputId": "1bca4b21-c480-4414-b94f-9663ae133447"
      },
      "execution_count": 38,
      "outputs": [
        {
          "output_type": "execute_result",
          "data": {
            "text/plain": [
              "11921"
            ]
          },
          "metadata": {},
          "execution_count": 38
        }
      ]
    },
    {
      "cell_type": "code",
      "source": [
        "# Find the range of age with the maximum count of diabetes occurrences\n",
        "age_range_most_affected_df = age_diabetes_count_df.filter(col('count') == max_diabetes_count)\n",
        "age_range_most_affected_df.show()"
      ],
      "metadata": {
        "colab": {
          "base_uri": "https://localhost:8080/"
        },
        "id": "ds29eNU8VQqO",
        "outputId": "135f6dfd-9d3f-41bc-abfd-addfbf07e43b"
      },
      "execution_count": 39,
      "outputs": [
        {
          "output_type": "stream",
          "name": "stdout",
          "text": [
            "+-------+-----+\n",
            "|    age|count|\n",
            "+-------+-----+\n",
            "|[70-80)|11921|\n",
            "+-------+-----+\n",
            "\n"
          ]
        }
      ]
    },
    {
      "cell_type": "code",
      "source": [
        "# Print the range of age with the maximum count of diabetes occurrences\n",
        "age_range_most_affected = age_range_most_affected_df.select(\"age\").collect()\n",
        "\n",
        "if age_range_most_affected:\n",
        "    age_range = f\"{age_range_most_affected[0]['age']} - {age_range_most_affected[-1]['age']}\"\n",
        "    print(\"Range of age most affected by diabetes: \", age_range)\n",
        "else:\n",
        "    print(\"No data available for patients with diabetes.\")"
      ],
      "metadata": {
        "colab": {
          "base_uri": "https://localhost:8080/"
        },
        "id": "395_80ecVTBh",
        "outputId": "11289ac4-4ab2-458e-f580-ec498dc08efb"
      },
      "execution_count": 40,
      "outputs": [
        {
          "output_type": "stream",
          "name": "stdout",
          "text": [
            "Range of age most affected by diabetes:  [70-80) - [70-80)\n"
          ]
        }
      ]
    },
    {
      "cell_type": "markdown",
      "source": [
        "**5. Find the number of females which have been affected by diabetes .**"
      ],
      "metadata": {
        "id": "Ri2RzY0KVpZb"
      }
    },
    {
      "cell_type": "code",
      "source": [
        "# Filter the records to include only females with diabetes\n",
        "females_with_diabetes_df = df.filter((col('gender') == 'Female') & (col('diabetesMed') == 'Yes'))\n",
        "females_with_diabetes_df.count()"
      ],
      "metadata": {
        "colab": {
          "base_uri": "https://localhost:8080/"
        },
        "id": "eJvsjbLdVjGt",
        "outputId": "25ad4085-bea1-48ba-c1d4-f74846c07cfa"
      },
      "execution_count": 43,
      "outputs": [
        {
          "output_type": "execute_result",
          "data": {
            "text/plain": [
              "24474"
            ]
          },
          "metadata": {},
          "execution_count": 43
        }
      ]
    },
    {
      "cell_type": "markdown",
      "source": [
        "**6. Find the number of males which have been affected by diabetes .**"
      ],
      "metadata": {
        "id": "pCGtD2PaWPLH"
      }
    },
    {
      "cell_type": "code",
      "source": [
        "# Filter the records to include only males with diabetes\n",
        "males_with_diabetes_df = df.filter((col('gender') == 'Male') & (col('diabetesMed') == 'Yes'))\n",
        "males_with_diabetes_df.count()"
      ],
      "metadata": {
        "colab": {
          "base_uri": "https://localhost:8080/"
        },
        "id": "4YrYiR94WAgZ",
        "outputId": "1af51946-db91-4234-d4be-e424741f222f"
      },
      "execution_count": 44,
      "outputs": [
        {
          "output_type": "execute_result",
          "data": {
            "text/plain": [
              "21107"
            ]
          },
          "metadata": {},
          "execution_count": 44
        }
      ]
    },
    {
      "cell_type": "code",
      "source": [],
      "metadata": {
        "id": "2lmRUnRkWcF6"
      },
      "execution_count": null,
      "outputs": []
    }
  ]
}